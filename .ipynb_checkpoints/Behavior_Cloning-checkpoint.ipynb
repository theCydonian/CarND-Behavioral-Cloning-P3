{
 "cells": [
  {
   "cell_type": "markdown",
   "metadata": {},
   "source": [
    "# Behavior Cloning Project"
   ]
  },
  {
   "cell_type": "markdown",
   "metadata": {},
   "source": [
    "### Import Libraries"
   ]
  },
  {
   "cell_type": "code",
   "execution_count": null,
   "metadata": {},
   "outputs": [
    {
     "name": "stderr",
     "output_type": "stream",
     "text": [
      "Using TensorFlow backend.\n"
     ]
    }
   ],
   "source": [
    "#keras\n",
    "import keras\n",
    "from keras.applications.resnet50 import ResNet50\n",
    "from keras.layers import *\n",
    "from keras.backend import clear_session\n",
    "from keras.models import Model\n",
    "\n",
    "# Helper libraries\n",
    "import numpy as np\n",
    "import pandas as pd\n",
    "import math\n",
    "import cv2\n",
    "from PIL import Image\n",
    "from sklearn.model_selection import train_test_split\n",
    "\n",
    "import random\n",
    "import csv\n",
    "import matplotlib.pyplot as plt\n",
    "\n",
    "from progressbar import *\n",
    "import random\n",
    "\n",
    "print('Keras Version: {}'.format(keras.__version__))"
   ]
  },
  {
   "cell_type": "markdown",
   "metadata": {},
   "source": [
    "### Import Data"
   ]
  },
  {
   "cell_type": "code",
   "execution_count": 36,
   "metadata": {},
   "outputs": [],
   "source": [
    "def process_sample(smpl, correction_factor):\n",
    "    prefix = ['dataK/','','data2/'][2]\n",
    "    cf = 0.06\n",
    "    cid = random.randrange(0,3)\n",
    "    \n",
    "    smpl[1] = smpl[1].replace(' ', '')\n",
    "    smpl[2] = smpl[2].replace(' ', '')\n",
    "    \n",
    "    if cid>=0:\n",
    "        crctn = cid*cf\n",
    "    else:\n",
    "        crctn = 0-cf\n",
    "    \n",
    "#     crctn = 0\n",
    "#     return [cv2.imread(prefix + smpl[cid]), float(smpl[3])+crctn]\n",
    "    \n",
    "    if random.random() >= 0.5:\n",
    "        return [cv2.flip(cv2.imread(prefix + smpl[cid]), 0), \n",
    "                (-1)*(float(smpl[3])+crctn)]\n",
    "    else:\n",
    "        return [cv2.imread(prefix + smpl[cid]), \n",
    "                float(smpl[3])+crctn]"
   ]
  },
  {
   "cell_type": "code",
   "execution_count": 37,
   "metadata": {},
   "outputs": [
    {
     "name": "stderr",
     "output_type": "stream",
     "text": [
      "100% (11496 of 11496) |##################| Elapsed Time: 0:00:56 Time:  0:00:56\n",
      "100% (2874 of 2874) |####################| Elapsed Time: 0:00:17 Time:  0:00:17\n"
     ]
    }
   ],
   "source": [
    "reader = csv.reader(open('data2/driving_log.csv'))\n",
    "lines = [line for line in reader][1:]\n",
    "train_lines, valid_lines = train_test_split(lines, test_size=0.2)\n",
    "\n",
    "images, measurements = zip(*[process_sample(smpl, 0.2) for smpl in progressbar(train_lines)])\n",
    "X_train, y_train = [np.array(images), np.array(measurements)]\n",
    "\n",
    "images, measurements = zip(*[process_sample(smpl, 0.2) for smpl in progressbar(valid_lines)])\n",
    "X_valid, y_valid = [np.array(images), np.array(measurements)]\n",
    "\n",
    "batch_size=32"
   ]
  },
  {
   "cell_type": "code",
   "execution_count": 38,
   "metadata": {},
   "outputs": [
    {
     "name": "stdout",
     "output_type": "stream",
     "text": [
      "0.0% of X values empty\n",
      "Average steering angle of 11496 angles in training set: -0.0023409592973600013\n",
      "Average steering angle of 2874 angles validation set: -0.006534656555323592\n",
      "Overall average steering angle: -0.003179698748952719\n"
     ]
    }
   ],
   "source": [
    "count = 0\n",
    "for x in X_train:\n",
    "    if x is None:\n",
    "        count+=1\n",
    "\n",
    "print(\"{}% of X values empty\".format(count/len(X_train)*100))\n",
    "print(\"Average steering angle of {} angles in training set: {}\".format(len(y_train), np.average(y_train)))\n",
    "print(\"Average steering angle of {} angles validation set: {}\".format(len(y_valid), np.average(y_valid)))\n",
    "total = len(y_train) + len(y_valid)\n",
    "print(\"Overall average steering angle: {}\".format(np.average(y_train) * len(y_train) / total +\n",
    "                                                 np.average(y_valid) * len(y_valid) / total))"
   ]
  },
  {
   "cell_type": "markdown",
   "metadata": {},
   "source": [
    "### Define a Model"
   ]
  },
  {
   "cell_type": "code",
   "execution_count": 39,
   "metadata": {
    "scrolled": true
   },
   "outputs": [],
   "source": [
    "def create_model():\n",
    "    #Instantiate an empty model\n",
    "    model = keras.Sequential()\n",
    "\n",
    "    model.add(Lambda(lambda x: x / 255.0 - 0.5, input_shape=(160, 320, 3)))\n",
    "    model.add(Cropping2D(cropping=((70,25),(0,0))))\n",
    "    \n",
    "    model.add(Conv2D(20, 6, 6, subsample=(2, 2), activation='relu'))\n",
    "    model.add(Conv2D(40, 5, 5, subsample=(2, 2), activation='relu'))\n",
    "    model.add(Conv2D(50, 5, 5, subsample=(2, 2), activation='relu'))\n",
    "    \n",
    "    model.add(Conv2D(64, 3, 3, activation='relu'))\n",
    "    model.add(Conv2D(64, 3, 3, activation='relu'))\n",
    "\n",
    "    model.add(Flatten())\n",
    "    model.add(Dense(64, activation='relu'))\n",
    "    model.add(Dense(32, activation='relu'))\n",
    "    model.add(Dense(1, activation='linear'))\n",
    "\n",
    "    # Compile the model\n",
    "    model.compile(loss='mse', optimizer='adam')\n",
    "    \n",
    "    return model"
   ]
  },
  {
   "cell_type": "markdown",
   "metadata": {},
   "source": [
    "### Save Model"
   ]
  },
  {
   "cell_type": "code",
   "execution_count": 40,
   "metadata": {},
   "outputs": [
    {
     "name": "stderr",
     "output_type": "stream",
     "text": [
      "/opt/anaconda3/lib/python3.7/site-packages/ipykernel_launcher.py:8: UserWarning: Update your `Conv2D` call to the Keras 2 API: `Conv2D(20, (6, 6), activation=\"relu\", strides=(2, 2))`\n",
      "  \n",
      "/opt/anaconda3/lib/python3.7/site-packages/ipykernel_launcher.py:9: UserWarning: Update your `Conv2D` call to the Keras 2 API: `Conv2D(40, (5, 5), activation=\"relu\", strides=(2, 2))`\n",
      "  if __name__ == '__main__':\n",
      "/opt/anaconda3/lib/python3.7/site-packages/ipykernel_launcher.py:10: UserWarning: Update your `Conv2D` call to the Keras 2 API: `Conv2D(50, (5, 5), activation=\"relu\", strides=(2, 2))`\n",
      "  # Remove the CWD from sys.path while we load stuff.\n",
      "/opt/anaconda3/lib/python3.7/site-packages/ipykernel_launcher.py:12: UserWarning: Update your `Conv2D` call to the Keras 2 API: `Conv2D(64, (3, 3), activation=\"relu\")`\n",
      "  if sys.path[0] == '':\n",
      "/opt/anaconda3/lib/python3.7/site-packages/ipykernel_launcher.py:13: UserWarning: Update your `Conv2D` call to the Keras 2 API: `Conv2D(64, (3, 3), activation=\"relu\")`\n",
      "  del sys.path[0]\n"
     ]
    },
    {
     "name": "stdout",
     "output_type": "stream",
     "text": [
      "_________________________________________________________________\n",
      "Layer (type)                 Output Shape              Param #   \n",
      "=================================================================\n",
      "lambda_1 (Lambda)            (None, 160, 320, 3)       0         \n",
      "_________________________________________________________________\n",
      "cropping2d_1 (Cropping2D)    (None, 65, 320, 3)        0         \n",
      "_________________________________________________________________\n",
      "conv2d_1 (Conv2D)            (None, 30, 158, 20)       2180      \n",
      "_________________________________________________________________\n",
      "conv2d_2 (Conv2D)            (None, 13, 77, 40)        20040     \n",
      "_________________________________________________________________\n",
      "conv2d_3 (Conv2D)            (None, 5, 37, 50)         50050     \n",
      "_________________________________________________________________\n",
      "conv2d_4 (Conv2D)            (None, 3, 35, 64)         28864     \n",
      "_________________________________________________________________\n",
      "conv2d_5 (Conv2D)            (None, 1, 33, 64)         36928     \n",
      "_________________________________________________________________\n",
      "flatten_1 (Flatten)          (None, 2112)              0         \n",
      "_________________________________________________________________\n",
      "dense_1 (Dense)              (None, 64)                135232    \n",
      "_________________________________________________________________\n",
      "dense_2 (Dense)              (None, 32)                2080      \n",
      "_________________________________________________________________\n",
      "dense_3 (Dense)              (None, 1)                 33        \n",
      "=================================================================\n",
      "Total params: 275,407\n",
      "Trainable params: 275,407\n",
      "Non-trainable params: 0\n",
      "_________________________________________________________________\n",
      "Train on 11496 samples, validate on 2874 samples\n",
      "Epoch 1/10\n",
      "11496/11496 [==============================] - 109s 10ms/step - loss: 0.0872 - val_loss: 0.0772\n",
      "Epoch 2/10\n",
      "11496/11496 [==============================] - 96s 8ms/step - loss: 0.0724 - val_loss: 0.0725\n",
      "Epoch 3/10\n",
      "11496/11496 [==============================] - 91s 8ms/step - loss: 0.0660 - val_loss: 0.0689\n",
      "Epoch 4/10\n",
      "11496/11496 [==============================] - 97s 8ms/step - loss: 0.0623 - val_loss: 0.0677\n",
      "Epoch 5/10\n",
      "11496/11496 [==============================] - 102s 9ms/step - loss: 0.0597 - val_loss: 0.0698\n",
      "Epoch 6/10\n",
      "11496/11496 [==============================] - 101s 9ms/step - loss: 0.0565 - val_loss: 0.0629\n",
      "Epoch 7/10\n",
      "11496/11496 [==============================] - 102s 9ms/step - loss: 0.0523 - val_loss: 0.0650\n",
      "Epoch 8/10\n",
      "11496/11496 [==============================] - 92s 8ms/step - loss: 0.0491 - val_loss: 0.0627\n",
      "Epoch 9/10\n",
      "11496/11496 [==============================] - 88s 8ms/step - loss: 0.0466 - val_loss: 0.0656\n",
      "Epoch 10/10\n",
      "11496/11496 [==============================] - 102s 9ms/step - loss: 0.0430 - val_loss: 0.0645\n"
     ]
    }
   ],
   "source": [
    "clear_session()\n",
    "\n",
    "model = create_model()\n",
    "model.summary()\n",
    "\n",
    "history = model.fit(x=X_train, \n",
    "              y=y_train, \n",
    "              batch_size=32, \n",
    "              epochs=10, \n",
    "              verbose=1, \n",
    "              validation_data=(X_valid, y_valid), \n",
    "              shuffle=True)"
   ]
  },
  {
   "cell_type": "markdown",
   "metadata": {},
   "source": [
    "### Output Model"
   ]
  },
  {
   "cell_type": "code",
   "execution_count": 41,
   "metadata": {},
   "outputs": [],
   "source": [
    "model.save('my_model.h5')"
   ]
  },
  {
   "cell_type": "code",
   "execution_count": 34,
   "metadata": {},
   "outputs": [
    {
     "name": "stdout",
     "output_type": "stream",
     "text": [
      "[[ 0.07059342]\n",
      " [-0.02000096]\n",
      " [ 0.43191168]\n",
      " [ 0.12899587]\n",
      " [-0.06909362]\n",
      " [ 0.05762426]\n",
      " [ 0.62557155]\n",
      " [ 0.48896137]\n",
      " [ 0.12961972]\n",
      " [-0.03387689]\n",
      " [ 0.01871493]\n",
      " [ 0.01671307]\n",
      " [-0.04890535]\n",
      " [ 0.16850883]\n",
      " [ 0.23259753]\n",
      " [ 0.05163585]\n",
      " [-0.15406767]\n",
      " [ 0.03635937]\n",
      " [ 0.0348151 ]\n",
      " [-0.34534892]]\n"
     ]
    }
   ],
   "source": [
    "print(model.predict(X_valid[0:20]))"
   ]
  },
  {
   "cell_type": "code",
   "execution_count": null,
   "metadata": {},
   "outputs": [],
   "source": []
  },
  {
   "cell_type": "code",
   "execution_count": null,
   "metadata": {},
   "outputs": [],
   "source": []
  }
 ],
 "metadata": {
  "kernelspec": {
   "display_name": "Python 3",
   "language": "python",
   "name": "python3"
  },
  "language_info": {
   "codemirror_mode": {
    "name": "ipython",
    "version": 3
   },
   "file_extension": ".py",
   "mimetype": "text/x-python",
   "name": "python",
   "nbconvert_exporter": "python",
   "pygments_lexer": "ipython3",
   "version": "3.7.4"
  }
 },
 "nbformat": 4,
 "nbformat_minor": 4
}
