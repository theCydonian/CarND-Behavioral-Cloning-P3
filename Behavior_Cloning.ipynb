{
 "cells": [
  {
   "cell_type": "markdown",
   "metadata": {},
   "source": [
    "# Behavior Cloning Project"
   ]
  },
  {
   "cell_type": "markdown",
   "metadata": {},
   "source": [
    "### Import Libraries"
   ]
  },
  {
   "cell_type": "code",
   "execution_count": 1,
   "metadata": {},
   "outputs": [
    {
     "name": "stdout",
     "output_type": "stream",
     "text": [
      "Tensorflow Version: 2.0.0\n"
     ]
    }
   ],
   "source": [
    "from __future__ import absolute_import, division, print_function, unicode_literals\n",
    "\n",
    "# TensorFlow and tf.keras\n",
    "from tensorflow import keras\n",
    "import tensorflow as tf\n",
    "\n",
    "# Helper libraries\n",
    "import numpy as np\n",
    "import pandas as pd\n",
    "import sklearn\n",
    "import math\n",
    "import cv2\n",
    "\n",
    "from sklearn.model_selection import train_test_split\n",
    "\n",
    "import random\n",
    "import csv\n",
    "import matplotlib.pyplot as plt\n",
    "\n",
    "from progressbar import *\n",
    "\n",
    "print('Tensorflow Version: {}'.format(tf.__version__))"
   ]
  },
  {
   "cell_type": "markdown",
   "metadata": {},
   "source": [
    "### Import Data"
   ]
  },
  {
   "cell_type": "code",
   "execution_count": 2,
   "metadata": {},
   "outputs": [],
   "source": [
    "def generator(samples, batch_size=32):\n",
    "    while True:\n",
    "        random.shuffle(samples)\n",
    "        for offset in range(0, len(samples), batch_size):\n",
    "            subsamples = samples[offset:offset+batch_size]\n",
    "            images, measurements = zip(*[[cv2.imread('data/' + smpl[0]), float(smpl[3])] for smpl in subsamples])\n",
    "            X_train, y_train = (np.array(images), np.array(measurements))\n",
    "            X_train, y_train = sklearn.utils.shuffle(X_train, y_train)\n",
    "            yield (X_train, y_train)"
   ]
  },
  {
   "cell_type": "code",
   "execution_count": 3,
   "metadata": {},
   "outputs": [],
   "source": [
    "reader = csv.reader(open('data/driving_log.csv'))\n",
    "train_lines, valid_lines = train_test_split([line for line in reader][1:], test_size=0.2)\n",
    "\n",
    "# images, measurements = zip(*[[cv2.imread('data/' + line[0]), float(line[3])] for line in progressbar(lines)])\n",
    "batch_size=32\n",
    "train = generator(train_lines, batch_size=batch_size)\n",
    "valid = generator(valid_lines, batch_size=batch_size)\n",
    "# X_train, y_train = (np.array(images), np.array(measurements))"
   ]
  },
  {
   "cell_type": "markdown",
   "metadata": {},
   "source": [
    "### Define a Model"
   ]
  },
  {
   "cell_type": "code",
   "execution_count": 4,
   "metadata": {},
   "outputs": [
    {
     "name": "stdout",
     "output_type": "stream",
     "text": [
      "Model: \"sequential\"\n",
      "_________________________________________________________________\n",
      "Layer (type)                 Output Shape              Param #   \n",
      "=================================================================\n",
      "lambda (Lambda)              (None, 160, 320, 3)       0         \n",
      "_________________________________________________________________\n",
      "cropping2d (Cropping2D)      (None, 90, 320, 3)        0         \n",
      "_________________________________________________________________\n",
      "flatten (Flatten)            (None, 86400)             0         \n",
      "_________________________________________________________________\n",
      "dense (Dense)                (None, 64)                5529664   \n",
      "_________________________________________________________________\n",
      "dense_1 (Dense)              (None, 1)                 65        \n",
      "=================================================================\n",
      "Total params: 5,529,729\n",
      "Trainable params: 5,529,729\n",
      "Non-trainable params: 0\n",
      "_________________________________________________________________\n"
     ]
    }
   ],
   "source": [
    "from tensorflow.keras.layers import *\n",
    "\n",
    "model = tf.keras.Sequential()\n",
    "\n",
    "model.add(Lambda(lambda x: (x/255)-0.5, input_shape=(160,320,3)))\n",
    "model.add(Cropping2D(cropping=((50,20), (0,0))))\n",
    "\n",
    "# model.add(Conv2D(32, (3, 3), activation='relu'))\n",
    "# model.add(MaxPooling2D((2, 2)))\n",
    "# model.add(Dropout(0.1))\n",
    "# model.add(Conv2D(64, (3, 3), activation='relu'))\n",
    "# model.add(MaxPooling2D((2, 2)))\n",
    "# model.add(Dropout(0.3))\n",
    "# model.add(Conv2D(64, (3, 3), activation='relu'))\n",
    "\n",
    "model.add(Flatten())\n",
    "\n",
    "model.add(Dense(64, activation='relu'))\n",
    "\n",
    "model.add(Dense(1))\n",
    "\n",
    "model.build()\n",
    "\n",
    "model.summary()\n",
    "\n",
    "model.compile(optimizer='adam', loss='mse')"
   ]
  },
  {
   "cell_type": "code",
   "execution_count": 5,
   "metadata": {},
   "outputs": [
    {
     "name": "stdout",
     "output_type": "stream",
     "text": [
      "Epoch 1/5\n",
      "201/201 [==============================] - 64s 318ms/step - loss: 3.8760 - val_loss: 0.1301\n",
      "Epoch 2/5\n",
      "201/201 [==============================] - 60s 298ms/step - loss: 0.1606 - val_loss: 0.0366\n",
      "Epoch 3/5\n",
      "201/201 [==============================] - 62s 309ms/step - loss: 0.0371 - val_loss: 0.0258\n",
      "Epoch 4/5\n",
      "201/201 [==============================] - 58s 288ms/step - loss: 0.0260 - val_loss: 0.0434\n",
      "Epoch 5/5\n",
      "201/201 [==============================] - 59s 294ms/step - loss: 0.0235 - val_loss: 0.0174\n"
     ]
    }
   ],
   "source": [
    "history = model.fit_generator(train, \n",
    "            steps_per_epoch=math.ceil(len(train_lines)/batch_size), \n",
    "            validation_data=valid, \n",
    "            validation_steps=math.ceil(len(valid_lines)/batch_size), \n",
    "            epochs=5, verbose=1)"
   ]
  },
  {
   "cell_type": "markdown",
   "metadata": {},
   "source": [
    "### Save Model"
   ]
  },
  {
   "cell_type": "code",
   "execution_count": 6,
   "metadata": {},
   "outputs": [],
   "source": [
    "model.save('my_model.h5')"
   ]
  },
  {
   "cell_type": "code",
   "execution_count": null,
   "metadata": {},
   "outputs": [],
   "source": []
  }
 ],
 "metadata": {
  "kernelspec": {
   "display_name": "Python 3",
   "language": "python",
   "name": "python3"
  },
  "language_info": {
   "codemirror_mode": {
    "name": "ipython",
    "version": 3
   },
   "file_extension": ".py",
   "mimetype": "text/x-python",
   "name": "python",
   "nbconvert_exporter": "python",
   "pygments_lexer": "ipython3",
   "version": "3.7.4"
  }
 },
 "nbformat": 4,
 "nbformat_minor": 2
}
